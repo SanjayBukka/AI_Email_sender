{
  "nbformat": 4,
  "nbformat_minor": 0,
  "metadata": {
    "colab": {
      "provenance": []
    },
    "kernelspec": {
      "name": "python3",
      "display_name": "Python 3"
    },
    "language_info": {
      "name": "python"
    }
  },
  "cells": [
    {
      "cell_type": "markdown",
      "source": [
        "Install Required Libraries\n",
        "\n",
        "We’ll use the following libraries:\n",
        "\n",
        "streamlit: To create the web interface.\n",
        "\n",
        "pandas: To handle the uploaded CSV data.\n",
        "\n",
        "requests: To interact with the Gemini API.\n",
        "\n",
        "pyngrok: To expose the app to the internet"
      ],
      "metadata": {
        "id": "NKnO4bh7hRDj"
      }
    },
    {
      "cell_type": "code",
      "execution_count": null,
      "metadata": {
        "colab": {
          "base_uri": "https://localhost:8080/"
        },
        "id": "kXnfKlNShKCP",
        "outputId": "6065beb2-f319-473e-b4c0-23863591859d"
      },
      "outputs": [
        {
          "output_type": "stream",
          "name": "stdout",
          "text": [
            "Collecting streamlit\n",
            "  Downloading streamlit-1.40.1-py2.py3-none-any.whl.metadata (8.5 kB)\n",
            "Requirement already satisfied: pandas in /usr/local/lib/python3.10/dist-packages (2.2.2)\n",
            "Requirement already satisfied: requests in /usr/local/lib/python3.10/dist-packages (2.32.3)\n",
            "Collecting pyngrok\n",
            "  Downloading pyngrok-7.2.1-py3-none-any.whl.metadata (8.3 kB)\n",
            "Requirement already satisfied: altair<6,>=4.0 in /usr/local/lib/python3.10/dist-packages (from streamlit) (4.2.2)\n",
            "Requirement already satisfied: blinker<2,>=1.0.0 in /usr/local/lib/python3.10/dist-packages (from streamlit) (1.9.0)\n",
            "Requirement already satisfied: cachetools<6,>=4.0 in /usr/local/lib/python3.10/dist-packages (from streamlit) (5.5.0)\n",
            "Requirement already satisfied: click<9,>=7.0 in /usr/local/lib/python3.10/dist-packages (from streamlit) (8.1.7)\n",
            "Requirement already satisfied: numpy<3,>=1.20 in /usr/local/lib/python3.10/dist-packages (from streamlit) (1.26.4)\n",
            "Requirement already satisfied: packaging<25,>=20 in /usr/local/lib/python3.10/dist-packages (from streamlit) (24.2)\n",
            "Requirement already satisfied: pillow<12,>=7.1.0 in /usr/local/lib/python3.10/dist-packages (from streamlit) (11.0.0)\n",
            "Requirement already satisfied: protobuf<6,>=3.20 in /usr/local/lib/python3.10/dist-packages (from streamlit) (4.25.5)\n",
            "Requirement already satisfied: pyarrow>=7.0 in /usr/local/lib/python3.10/dist-packages (from streamlit) (17.0.0)\n",
            "Requirement already satisfied: rich<14,>=10.14.0 in /usr/local/lib/python3.10/dist-packages (from streamlit) (13.9.4)\n",
            "Requirement already satisfied: tenacity<10,>=8.1.0 in /usr/local/lib/python3.10/dist-packages (from streamlit) (9.0.0)\n",
            "Requirement already satisfied: toml<2,>=0.10.1 in /usr/local/lib/python3.10/dist-packages (from streamlit) (0.10.2)\n",
            "Requirement already satisfied: typing-extensions<5,>=4.3.0 in /usr/local/lib/python3.10/dist-packages (from streamlit) (4.12.2)\n",
            "Requirement already satisfied: gitpython!=3.1.19,<4,>=3.0.7 in /usr/local/lib/python3.10/dist-packages (from streamlit) (3.1.43)\n",
            "Collecting pydeck<1,>=0.8.0b4 (from streamlit)\n",
            "  Downloading pydeck-0.9.1-py2.py3-none-any.whl.metadata (4.1 kB)\n",
            "Requirement already satisfied: tornado<7,>=6.0.3 in /usr/local/lib/python3.10/dist-packages (from streamlit) (6.3.3)\n",
            "Collecting watchdog<7,>=2.1.5 (from streamlit)\n",
            "  Downloading watchdog-6.0.0-py3-none-manylinux2014_x86_64.whl.metadata (44 kB)\n",
            "\u001b[2K     \u001b[90m━━━━━━━━━━━━━━━━━━━━━━━━━━━━━━━━━━━━━━━━\u001b[0m \u001b[32m44.3/44.3 kB\u001b[0m \u001b[31m1.6 MB/s\u001b[0m eta \u001b[36m0:00:00\u001b[0m\n",
            "\u001b[?25hRequirement already satisfied: python-dateutil>=2.8.2 in /usr/local/lib/python3.10/dist-packages (from pandas) (2.8.2)\n",
            "Requirement already satisfied: pytz>=2020.1 in /usr/local/lib/python3.10/dist-packages (from pandas) (2024.2)\n",
            "Requirement already satisfied: tzdata>=2022.7 in /usr/local/lib/python3.10/dist-packages (from pandas) (2024.2)\n",
            "Requirement already satisfied: charset-normalizer<4,>=2 in /usr/local/lib/python3.10/dist-packages (from requests) (3.4.0)\n",
            "Requirement already satisfied: idna<4,>=2.5 in /usr/local/lib/python3.10/dist-packages (from requests) (3.10)\n",
            "Requirement already satisfied: urllib3<3,>=1.21.1 in /usr/local/lib/python3.10/dist-packages (from requests) (2.2.3)\n",
            "Requirement already satisfied: certifi>=2017.4.17 in /usr/local/lib/python3.10/dist-packages (from requests) (2024.8.30)\n",
            "Requirement already satisfied: PyYAML>=5.1 in /usr/local/lib/python3.10/dist-packages (from pyngrok) (6.0.2)\n",
            "Requirement already satisfied: entrypoints in /usr/local/lib/python3.10/dist-packages (from altair<6,>=4.0->streamlit) (0.4)\n",
            "Requirement already satisfied: jinja2 in /usr/local/lib/python3.10/dist-packages (from altair<6,>=4.0->streamlit) (3.1.4)\n",
            "Requirement already satisfied: jsonschema>=3.0 in /usr/local/lib/python3.10/dist-packages (from altair<6,>=4.0->streamlit) (4.23.0)\n",
            "Requirement already satisfied: toolz in /usr/local/lib/python3.10/dist-packages (from altair<6,>=4.0->streamlit) (0.12.1)\n",
            "Requirement already satisfied: gitdb<5,>=4.0.1 in /usr/local/lib/python3.10/dist-packages (from gitpython!=3.1.19,<4,>=3.0.7->streamlit) (4.0.11)\n",
            "Requirement already satisfied: six>=1.5 in /usr/local/lib/python3.10/dist-packages (from python-dateutil>=2.8.2->pandas) (1.16.0)\n",
            "Requirement already satisfied: markdown-it-py>=2.2.0 in /usr/local/lib/python3.10/dist-packages (from rich<14,>=10.14.0->streamlit) (3.0.0)\n",
            "Requirement already satisfied: pygments<3.0.0,>=2.13.0 in /usr/local/lib/python3.10/dist-packages (from rich<14,>=10.14.0->streamlit) (2.18.0)\n",
            "Requirement already satisfied: smmap<6,>=3.0.1 in /usr/local/lib/python3.10/dist-packages (from gitdb<5,>=4.0.1->gitpython!=3.1.19,<4,>=3.0.7->streamlit) (5.0.1)\n",
            "Requirement already satisfied: MarkupSafe>=2.0 in /usr/local/lib/python3.10/dist-packages (from jinja2->altair<6,>=4.0->streamlit) (3.0.2)\n",
            "Requirement already satisfied: attrs>=22.2.0 in /usr/local/lib/python3.10/dist-packages (from jsonschema>=3.0->altair<6,>=4.0->streamlit) (24.2.0)\n",
            "Requirement already satisfied: jsonschema-specifications>=2023.03.6 in /usr/local/lib/python3.10/dist-packages (from jsonschema>=3.0->altair<6,>=4.0->streamlit) (2024.10.1)\n",
            "Requirement already satisfied: referencing>=0.28.4 in /usr/local/lib/python3.10/dist-packages (from jsonschema>=3.0->altair<6,>=4.0->streamlit) (0.35.1)\n",
            "Requirement already satisfied: rpds-py>=0.7.1 in /usr/local/lib/python3.10/dist-packages (from jsonschema>=3.0->altair<6,>=4.0->streamlit) (0.21.0)\n",
            "Requirement already satisfied: mdurl~=0.1 in /usr/local/lib/python3.10/dist-packages (from markdown-it-py>=2.2.0->rich<14,>=10.14.0->streamlit) (0.1.2)\n",
            "Downloading streamlit-1.40.1-py2.py3-none-any.whl (8.6 MB)\n",
            "\u001b[2K   \u001b[90m━━━━━━━━━━━━━━━━━━━━━━━━━━━━━━━━━━━━━━━━\u001b[0m \u001b[32m8.6/8.6 MB\u001b[0m \u001b[31m40.4 MB/s\u001b[0m eta \u001b[36m0:00:00\u001b[0m\n",
            "\u001b[?25hDownloading pyngrok-7.2.1-py3-none-any.whl (22 kB)\n",
            "Downloading pydeck-0.9.1-py2.py3-none-any.whl (6.9 MB)\n",
            "\u001b[2K   \u001b[90m━━━━━━━━━━━━━━━━━━━━━━━━━━━━━━━━━━━━━━━━\u001b[0m \u001b[32m6.9/6.9 MB\u001b[0m \u001b[31m32.3 MB/s\u001b[0m eta \u001b[36m0:00:00\u001b[0m\n",
            "\u001b[?25hDownloading watchdog-6.0.0-py3-none-manylinux2014_x86_64.whl (79 kB)\n",
            "\u001b[2K   \u001b[90m━━━━━━━━━━━━━━━━━━━━━━━━━━━━━━━━━━━━━━━━\u001b[0m \u001b[32m79.1/79.1 kB\u001b[0m \u001b[31m5.1 MB/s\u001b[0m eta \u001b[36m0:00:00\u001b[0m\n",
            "\u001b[?25hInstalling collected packages: watchdog, pyngrok, pydeck, streamlit\n",
            "Successfully installed pydeck-0.9.1 pyngrok-7.2.1 streamlit-1.40.1 watchdog-6.0.0\n"
          ]
        }
      ],
      "source": [
        "!pip install streamlit pandas requests pyngrok\n"
      ]
    },
    {
      "cell_type": "code",
      "source": [
        "import requests\n",
        "\n",
        "def send_email_with_gemini(recipient_email, subject, message_body, gemini_api_key):\n",
        "    \"\"\"\n",
        "    Send an email using Gemini API.\n",
        "    \"\"\"\n",
        "    url = \"*****************************************************************************\"  # Replace with the actual Gemini API endpoint\n",
        "    headers = {\n",
        "        \"Authorization\": f\"Bearer {gemini_api_key}\",\n",
        "        \"Content-Type\": \"application/json\"\n",
        "    }\n",
        "    payload = {\n",
        "        \"to\": recipient_email,\n",
        "        \"subject\": subject,\n",
        "        \"body\": message_body\n",
        "    }\n",
        "\n",
        "    try:\n",
        "        response = requests.post(url, headers=headers, json=payload)\n",
        "        response.raise_for_status()\n",
        "        return True\n",
        "    except requests.exceptions.RequestException as e:\n",
        "        print(f\"Error sending email to {recipient_email}: {e}\")\n",
        "        return False\n"
      ],
      "metadata": {
        "id": "n3dt5hOjhecu"
      },
      "execution_count": null,
      "outputs": []
    },
    {
      "cell_type": "code",
      "source": [
        "# Test values\n",
        "gemini_api_key = \"****************************************\"  # Replace with your actual Gemini API key\n",
        "recipient_email = \"sanjaybukka28@gmail.com\"\n",
        "subject = \"Test Email\"\n",
        "message_body = \"Hello, this is a test email using the Gemini API.\"\n",
        "\n",
        "# Call the function\n",
        "status = send_email_with_gemini(recipient_email, subject, message_body, gemini_api_key)\n",
        "print(f\"Email sent successfully: {status}\")\n"
      ],
      "metadata": {
        "colab": {
          "base_uri": "https://localhost:8080/"
        },
        "id": "u6lkK-aPipFx",
        "outputId": "5c0a534a-e83d-4c2f-9b37-5953ab7ac3b7"
      },
      "execution_count": null,
      "outputs": [
        {
          "output_type": "stream",
          "name": "stdout",
          "text": [
            "Error sending email to sanjaybukka28@gmail.com: 404 Client Error: Not Found for url: https://generativelanguage.googleapis.com/v1beta/models/gemini-1.5-flash-latest\n",
            "Email sent successfully: False\n"
          ]
        }
      ]
    },
    {
      "cell_type": "code",
      "source": [
        "def generate_email_with_gemini(name, company, subject, gemini_api_key):\n",
        "    \"\"\"\n",
        "    Generate email content using Gemini API.\n",
        "    \"\"\"\n",
        "    url = \"****************************************************************************t\"\n",
        "    headers = {\n",
        "        \"Authorization\": f\"Bearer {gemini_api_key}\",\n",
        "        \"Content-Type\": \"application/json\"\n",
        "    }\n",
        "    payload = {\n",
        "        \"prompt\": {\n",
        "            \"text\": f\"Write a professional email to {name} at {company}. The subject is: {subject}. \"\n",
        "                    f\"Include a friendly introduction, details about {company}, and a closing note.\"\n",
        "        },\n",
        "        \"temperature\": 0.7,\n",
        "        \"maxOutputTokens\": 256\n",
        "    }\n",
        "\n",
        "    try:\n",
        "        response = requests.post(url, headers=headers, json=payload)\n",
        "        response.raise_for_status()\n",
        "        response_data = response.json()\n",
        "        return response_data[\"candidates\"][0][\"output\"]\n",
        "    except requests.exceptions.RequestException as e:\n",
        "        print(f\"Error generating email content: {e}\")\n",
        "        return None\n"
      ],
      "metadata": {
        "id": "8FiPQ0ali6HK"
      },
      "execution_count": null,
      "outputs": []
    },
    {
      "cell_type": "code",
      "source": [
        "def send_email_with_smtp(recipient_email, subject, message_body, sender_email, sender_password):\n",
        "    \"\"\"\n",
        "    Send an email using Gmail's SMTP server.\n",
        "    \"\"\"\n",
        "    smtp_server = \"smtp.gmail.com\"\n",
        "    smtp_port = 587\n",
        "\n",
        "    msg = MIMEMultipart()\n",
        "    msg[\"From\"] = sender_email\n",
        "    msg[\"To\"] = recipient_email\n",
        "    msg[\"Subject\"] = subject\n",
        "    msg.attach(MIMEText(message_body, \"plain\"))\n",
        "\n",
        "    try:\n",
        "        with smtplib.SMTP(smtp_server, smtp_port) as server:\n",
        "            server.starttls()\n",
        "            server.login(sender_email, sender_password)\n",
        "            server.sendmail(sender_email, recipient_email, msg.as_string())\n",
        "            return True\n",
        "    except Exception as e:\n",
        "        print(f\"Error sending email to {recipient_email}: {e}\")\n",
        "        return False\n"
      ],
      "metadata": {
        "id": "lmlujYdHjuqY"
      },
      "execution_count": null,
      "outputs": []
    },
    {
      "cell_type": "code",
      "source": [
        "import streamlit as st\n"
      ],
      "metadata": {
        "id": "f_dBRlOakcLq"
      },
      "execution_count": null,
      "outputs": []
    },
    {
      "cell_type": "code",
      "source": [
        "!pip install streamlit pyngrok\n"
      ],
      "metadata": {
        "colab": {
          "base_uri": "https://localhost:8080/"
        },
        "id": "JU5af7FlksYz",
        "outputId": "c29a4be9-2f0c-4189-9c3a-18afd91a6cc5"
      },
      "execution_count": null,
      "outputs": [
        {
          "output_type": "stream",
          "name": "stdout",
          "text": [
            "Requirement already satisfied: streamlit in /usr/local/lib/python3.10/dist-packages (1.40.1)\n",
            "Requirement already satisfied: pyngrok in /usr/local/lib/python3.10/dist-packages (7.2.1)\n",
            "Requirement already satisfied: altair<6,>=4.0 in /usr/local/lib/python3.10/dist-packages (from streamlit) (4.2.2)\n",
            "Requirement already satisfied: blinker<2,>=1.0.0 in /usr/local/lib/python3.10/dist-packages (from streamlit) (1.9.0)\n",
            "Requirement already satisfied: cachetools<6,>=4.0 in /usr/local/lib/python3.10/dist-packages (from streamlit) (5.5.0)\n",
            "Requirement already satisfied: click<9,>=7.0 in /usr/local/lib/python3.10/dist-packages (from streamlit) (8.1.7)\n",
            "Requirement already satisfied: numpy<3,>=1.20 in /usr/local/lib/python3.10/dist-packages (from streamlit) (1.26.4)\n",
            "Requirement already satisfied: packaging<25,>=20 in /usr/local/lib/python3.10/dist-packages (from streamlit) (24.2)\n",
            "Requirement already satisfied: pandas<3,>=1.4.0 in /usr/local/lib/python3.10/dist-packages (from streamlit) (2.2.2)\n",
            "Requirement already satisfied: pillow<12,>=7.1.0 in /usr/local/lib/python3.10/dist-packages (from streamlit) (11.0.0)\n",
            "Requirement already satisfied: protobuf<6,>=3.20 in /usr/local/lib/python3.10/dist-packages (from streamlit) (4.25.5)\n",
            "Requirement already satisfied: pyarrow>=7.0 in /usr/local/lib/python3.10/dist-packages (from streamlit) (17.0.0)\n",
            "Requirement already satisfied: requests<3,>=2.27 in /usr/local/lib/python3.10/dist-packages (from streamlit) (2.32.3)\n",
            "Requirement already satisfied: rich<14,>=10.14.0 in /usr/local/lib/python3.10/dist-packages (from streamlit) (13.9.4)\n",
            "Requirement already satisfied: tenacity<10,>=8.1.0 in /usr/local/lib/python3.10/dist-packages (from streamlit) (9.0.0)\n",
            "Requirement already satisfied: toml<2,>=0.10.1 in /usr/local/lib/python3.10/dist-packages (from streamlit) (0.10.2)\n",
            "Requirement already satisfied: typing-extensions<5,>=4.3.0 in /usr/local/lib/python3.10/dist-packages (from streamlit) (4.12.2)\n",
            "Requirement already satisfied: gitpython!=3.1.19,<4,>=3.0.7 in /usr/local/lib/python3.10/dist-packages (from streamlit) (3.1.43)\n",
            "Requirement already satisfied: pydeck<1,>=0.8.0b4 in /usr/local/lib/python3.10/dist-packages (from streamlit) (0.9.1)\n",
            "Requirement already satisfied: tornado<7,>=6.0.3 in /usr/local/lib/python3.10/dist-packages (from streamlit) (6.3.3)\n",
            "Requirement already satisfied: watchdog<7,>=2.1.5 in /usr/local/lib/python3.10/dist-packages (from streamlit) (6.0.0)\n",
            "Requirement already satisfied: PyYAML>=5.1 in /usr/local/lib/python3.10/dist-packages (from pyngrok) (6.0.2)\n",
            "Requirement already satisfied: entrypoints in /usr/local/lib/python3.10/dist-packages (from altair<6,>=4.0->streamlit) (0.4)\n",
            "Requirement already satisfied: jinja2 in /usr/local/lib/python3.10/dist-packages (from altair<6,>=4.0->streamlit) (3.1.4)\n",
            "Requirement already satisfied: jsonschema>=3.0 in /usr/local/lib/python3.10/dist-packages (from altair<6,>=4.0->streamlit) (4.23.0)\n",
            "Requirement already satisfied: toolz in /usr/local/lib/python3.10/dist-packages (from altair<6,>=4.0->streamlit) (0.12.1)\n",
            "Requirement already satisfied: gitdb<5,>=4.0.1 in /usr/local/lib/python3.10/dist-packages (from gitpython!=3.1.19,<4,>=3.0.7->streamlit) (4.0.11)\n",
            "Requirement already satisfied: python-dateutil>=2.8.2 in /usr/local/lib/python3.10/dist-packages (from pandas<3,>=1.4.0->streamlit) (2.8.2)\n",
            "Requirement already satisfied: pytz>=2020.1 in /usr/local/lib/python3.10/dist-packages (from pandas<3,>=1.4.0->streamlit) (2024.2)\n",
            "Requirement already satisfied: tzdata>=2022.7 in /usr/local/lib/python3.10/dist-packages (from pandas<3,>=1.4.0->streamlit) (2024.2)\n",
            "Requirement already satisfied: charset-normalizer<4,>=2 in /usr/local/lib/python3.10/dist-packages (from requests<3,>=2.27->streamlit) (3.4.0)\n",
            "Requirement already satisfied: idna<4,>=2.5 in /usr/local/lib/python3.10/dist-packages (from requests<3,>=2.27->streamlit) (3.10)\n",
            "Requirement already satisfied: urllib3<3,>=1.21.1 in /usr/local/lib/python3.10/dist-packages (from requests<3,>=2.27->streamlit) (2.2.3)\n",
            "Requirement already satisfied: certifi>=2017.4.17 in /usr/local/lib/python3.10/dist-packages (from requests<3,>=2.27->streamlit) (2024.8.30)\n",
            "Requirement already satisfied: markdown-it-py>=2.2.0 in /usr/local/lib/python3.10/dist-packages (from rich<14,>=10.14.0->streamlit) (3.0.0)\n",
            "Requirement already satisfied: pygments<3.0.0,>=2.13.0 in /usr/local/lib/python3.10/dist-packages (from rich<14,>=10.14.0->streamlit) (2.18.0)\n",
            "Requirement already satisfied: smmap<6,>=3.0.1 in /usr/local/lib/python3.10/dist-packages (from gitdb<5,>=4.0.1->gitpython!=3.1.19,<4,>=3.0.7->streamlit) (5.0.1)\n",
            "Requirement already satisfied: MarkupSafe>=2.0 in /usr/local/lib/python3.10/dist-packages (from jinja2->altair<6,>=4.0->streamlit) (3.0.2)\n",
            "Requirement already satisfied: attrs>=22.2.0 in /usr/local/lib/python3.10/dist-packages (from jsonschema>=3.0->altair<6,>=4.0->streamlit) (24.2.0)\n",
            "Requirement already satisfied: jsonschema-specifications>=2023.03.6 in /usr/local/lib/python3.10/dist-packages (from jsonschema>=3.0->altair<6,>=4.0->streamlit) (2024.10.1)\n",
            "Requirement already satisfied: referencing>=0.28.4 in /usr/local/lib/python3.10/dist-packages (from jsonschema>=3.0->altair<6,>=4.0->streamlit) (0.35.1)\n",
            "Requirement already satisfied: rpds-py>=0.7.1 in /usr/local/lib/python3.10/dist-packages (from jsonschema>=3.0->altair<6,>=4.0->streamlit) (0.21.0)\n",
            "Requirement already satisfied: mdurl~=0.1 in /usr/local/lib/python3.10/dist-packages (from markdown-it-py>=2.2.0->rich<14,>=10.14.0->streamlit) (0.1.2)\n",
            "Requirement already satisfied: six>=1.5 in /usr/local/lib/python3.10/dist-packages (from python-dateutil>=2.8.2->pandas<3,>=1.4.0->streamlit) (1.16.0)\n"
          ]
        }
      ]
    },
    {
      "cell_type": "code",
      "source": [
        "%%writefile app.py\n",
        "import streamlit as st\n",
        "import pandas as pd\n",
        "import requests\n",
        "from email.mime.text import MIMEText\n",
        "from email.mime.multipart import MIMEMultipart\n",
        "import smtplib\n",
        "\n",
        "# Predefined credentials\n",
        "GEMINI_API_KEY = \"***************************\"\n",
        "SENDER_EMAIL = \"******************************\"\n",
        "SENDER_PASSWORD = \"*******************************\"\n",
        "\n",
        "# Function to generate email content using the Gemini API with API Key\n",
        "def generate_email_with_gemini(name, company, subject):\n",
        "    API_KEY = '*****************************************************'\n",
        "    url = f\"******************************************************************************************}\"\n",
        "\n",
        "    headers = {\n",
        "        \"Content-Type\": \"application/json\"\n",
        "    }\n",
        "    payload = {\n",
        "        \"prompt\": {\n",
        "            \"text\": f\"Write a professional email to {name} at {company}. The subject is: {subject}. \"\n",
        "                    f\"Include a friendly introduction, details about {company}, and a closing note.\"\n",
        "        },\n",
        "        \"temperature\": 0.7,\n",
        "        \"maxOutputTokens\": 256\n",
        "    }\n",
        "\n",
        "    try:\n",
        "        response = requests.post(url, headers=headers, json=payload)\n",
        "        response.raise_for_status()\n",
        "        response_data = response.json()\n",
        "        return response_data[\"candidates\"][0][\"output\"]\n",
        "    except requests.exceptions.RequestException as e:\n",
        "        print(f\"Error generating email content: {e}\")\n",
        "        return None\n",
        "\n",
        "\n",
        "\n",
        "# Function to send email using SMTP\n",
        "def send_email_with_smtp(recipient_email, subject, message_body):\n",
        "    smtp_server = \"smtp.gmail.com\"\n",
        "    smtp_port = 587\n",
        "\n",
        "    msg = MIMEMultipart()\n",
        "    msg[\"From\"] = SENDER_EMAIL\n",
        "    msg[\"To\"] = recipient_email\n",
        "    msg[\"Subject\"] = subject\n",
        "    msg.attach(MIMEText(message_body, \"plain\"))\n",
        "\n",
        "    try:\n",
        "        with smtplib.SMTP(smtp_server, smtp_port) as server:\n",
        "            server.starttls()\n",
        "            server.login(SENDER_EMAIL, SENDER_PASSWORD)\n",
        "            server.sendmail(SENDER_EMAIL, recipient_email, msg.as_string())\n",
        "            return True\n",
        "    except Exception as e:\n",
        "        print(f\"Error sending email to {recipient_email}: {e}\")\n",
        "        return False\n",
        "\n",
        "# Streamlit app\n",
        "st.title(\"Email Generator and Sender\")\n",
        "\n",
        "# File upload for CSV\n",
        "uploaded_file = st.file_uploader(\"Upload CSV file with Name, Email, and Company columns\", type=\"csv\")\n",
        "\n",
        "if uploaded_file:\n",
        "    # Display uploaded data\n",
        "    data = pd.read_csv(uploaded_file)\n",
        "    st.write(\"Preview of Uploaded Data:\")\n",
        "    st.dataframe(data)\n",
        "\n",
        "    # Input field for email subject\n",
        "    subject = st.text_input(\"Enter email subject\", \"Default Subject\")\n",
        "\n",
        "    if st.button(\"Generate and Send Emails\"):\n",
        "        for _, row in data.iterrows():\n",
        "            name = row[\"Name\"]\n",
        "            company = row[\"Company\"]\n",
        "            recipient_email = row[\"Email\"]\n",
        "\n",
        "            # Generate email content\n",
        "            email_body = generate_email_with_gemini(name, company, subject)\n",
        "            if not email_body:\n",
        "                st.error(f\"Failed to generate email content for {name}.\")\n",
        "                continue\n",
        "\n",
        "            # Send the generated email\n",
        "            email_status = send_email_with_smtp(recipient_email, subject, email_body)\n",
        "            if email_status:\n",
        "                st.success(f\"Email sent to {recipient_email}\")\n",
        "            else:\n",
        "                st.error(f\"Failed to send email to {recipient_email}\")\n"
      ],
      "metadata": {
        "colab": {
          "base_uri": "https://localhost:8080/"
        },
        "id": "fgq8SoS0kt_S",
        "outputId": "52ed9334-f35b-4396-d612-ef8cab3b0333"
      },
      "execution_count": null,
      "outputs": [
        {
          "output_type": "stream",
          "name": "stdout",
          "text": [
            "Overwriting app.py\n"
          ]
        }
      ]
    },
    {
      "cell_type": "code",
      "source": [
        "from pyngrok import ngrok\n",
        "\n",
        "# Kill all tunnels first (in case of old lingering ones)\n",
        "ngrok.kill()\n",
        "\n",
        "# Start a new tunnel\n",
        "public_url = ngrok.connect(8501)\n",
        "print(f\"Streamlit app is running at: {public_url}\")\n"
      ],
      "metadata": {
        "colab": {
          "base_uri": "https://localhost:8080/"
        },
        "id": "bkp4kgjPlTBQ",
        "outputId": "ef8bd355-4d43-4b3a-e7a4-58700c231afe"
      },
      "execution_count": null,
      "outputs": [
        {
          "output_type": "stream",
          "name": "stdout",
          "text": [
            "Streamlit app is running at: NgrokTunnel: \"https://8862-34-82-154-115.ngrok-free.app\" -> \"http://localhost:8501\"\n"
          ]
        }
      ]
    },
    {
      "cell_type": "code",
      "source": [
        "!ngrok config add-authtoken 2owBzlFsWSHgVRkZvex7YTRxuim_45TnmVdtE5wpJCJ8ioZHo\n"
      ],
      "metadata": {
        "colab": {
          "base_uri": "https://localhost:8080/"
        },
        "id": "eTpeNnaplYon",
        "outputId": "54e8f97a-9190-48fe-b909-4efd37c84f62"
      },
      "execution_count": null,
      "outputs": [
        {
          "output_type": "stream",
          "name": "stdout",
          "text": [
            "Authtoken saved to configuration file: /root/.config/ngrok/ngrok.yml\n"
          ]
        }
      ]
    },
    {
      "cell_type": "code",
      "source": [
        "import requests\n",
        "import json\n",
        "\n",
        "# Define your API key (replace with your actual API key)\n",
        "API_KEY = '****************************************'\n",
        "\n",
        "# Define the base URL for the Gemini API\n",
        "base_url = \"***********************************************************************************\"\n",
        "\n",
        "# Combine the base URL with the query parameter for the API key\n",
        "url = f\"{base_url}?key={API_KEY}\"\n",
        "\n",
        "# Function to generate content based on the subject\n",
        "def generate_content(subject):\n",
        "    # Prepare the request data with the subject provided\n",
        "    data = {\n",
        "        \"contents\": [\n",
        "            {\n",
        "                \"parts\": [\n",
        "                    {\"text\": f\"Write a professional email about: {subject}\"}\n",
        "                ]\n",
        "            }\n",
        "        ]\n",
        "    }\n",
        "\n",
        "    # Send the POST request to the Gemini API\n",
        "    response = requests.post(url, headers={\"Content-Type\": \"application/json\"}, data=json.dumps(data))\n",
        "\n",
        "    # Check if the request was successful\n",
        "    if response.status_code == 200:\n",
        "        result = response.json()\n",
        "        # Extract the generated content\n",
        "        generated_content = result['candidates'][0]['content']['parts'][0]['text']\n",
        "        return generated_content\n",
        "    else:\n",
        "        print(f\"Failed to generate content: {response.status_code}\")\n",
        "        print(response.text)\n",
        "        return None\n",
        "\n",
        "# Example usage: generate content for a subject\n",
        "subject = \"woxsen hackathon\"\n",
        "generated_text = generate_content(subject)\n",
        "\n",
        "# Print the generated content\n",
        "if generated_text:\n",
        "    print(\"Generated Content:\")\n",
        "    print(generated_text)\n"
      ],
      "metadata": {
        "id": "U9kKxjL_mY7Y",
        "colab": {
          "base_uri": "https://localhost:8080/"
        },
        "outputId": "0e598f44-c2dd-44cf-e851-9205884ff07d"
      },
      "execution_count": null,
      "outputs": [
        {
          "output_type": "stream",
          "name": "stdout",
          "text": [
            "Generated Content:\n",
            "Subject: Invitation to Participate in the Woxsen Hackathon\n",
            "\n",
            "Dear [Recipient Name],\n",
            "\n",
            "We are thrilled to invite you to participate in the Woxsen School of Business's [Hackathon Name] hackathon, taking place on [Start Date] to [End Date] at [Location/Platform - e.g., Woxsen University campus, online via [Platform Name]].\n",
            "\n",
            "This year's hackathon focuses on [Theme of the Hackathon].  Participants will have the opportunity to collaborate with fellow students, industry professionals, and mentors to develop innovative solutions to address [Specific Problem or Challenge].  We anticipate a diverse range of projects, encompassing [Mention a few examples of technologies or domains, e.g., AI, blockchain, sustainable solutions].\n",
            "\n",
            "[Optional: Briefly mention prizes or sponsors.]  For example:  Attractive prizes will be awarded to the winning teams, including [Mention prizes].  Our sponsors include [List sponsors].\n",
            "\n",
            "The hackathon will provide you with an invaluable opportunity to:\n",
            "\n",
            "* Enhance your technical skills and problem-solving abilities.\n",
            "* Network with peers and industry professionals.\n",
            "* Gain valuable experience in a collaborative and fast-paced environment.\n",
            "* Showcase your creativity and innovation.\n",
            "\n",
            "Registration details and further information regarding the event, including eligibility criteria and a detailed schedule, can be found at [Link to Registration/Event Page].  The deadline to register is [Registration Deadline].\n",
            "\n",
            "We strongly encourage you to register early to secure your spot.  We look forward to welcoming you to the Woxsen Hackathon and seeing the innovative solutions you develop.\n",
            "\n",
            "Sincerely,\n",
            "\n",
            "The Woxsen Hackathon Team\n",
            "[Website URL]\n",
            "[Contact Email Address]\n",
            "[Phone Number (optional)]\n",
            "\n"
          ]
        }
      ]
    },
    {
      "cell_type": "code",
      "source": [],
      "metadata": {
        "id": "uSyLSA3XhSe6"
      },
      "execution_count": null,
      "outputs": []
    }
  ]
}